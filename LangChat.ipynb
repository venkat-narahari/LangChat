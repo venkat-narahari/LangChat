{
  "nbformat": 4,
  "nbformat_minor": 0,
  "metadata": {
    "colab": {
      "provenance": [],
      "gpuType": "T4",
      "authorship_tag": "ABX9TyNDKHi12BbZU1u1i2TEVOXu",
      "include_colab_link": true
    },
    "kernelspec": {
      "name": "python3",
      "display_name": "Python 3"
    },
    "language_info": {
      "name": "python"
    },
    "accelerator": "GPU"
  },
  "cells": [
    {
      "cell_type": "markdown",
      "metadata": {
        "id": "view-in-github",
        "colab_type": "text"
      },
      "source": [
        "<a href=\"https://colab.research.google.com/github/venkat-narahari/LangChat/blob/main/LangChat.ipynb\" target=\"_parent\"><img src=\"https://colab.research.google.com/assets/colab-badge.svg\" alt=\"Open In Colab\"/></a>"
      ]
    },
    {
      "cell_type": "markdown",
      "source": [
        "# **Langchain Chatbot Experiment**\n",
        "##[Github](https://github.com/venkat-narahari/LangChat)"
      ],
      "metadata": {
        "id": "IJpfMei6yRve"
      }
    },
    {
      "cell_type": "code",
      "execution_count": null,
      "metadata": {
        "id": "sz7IfAE-w9r4"
      },
      "outputs": [],
      "source": [
        "!pip install langchain"
      ]
    },
    {
      "cell_type": "markdown",
      "source": [
        "**LLM Model Setup**"
      ],
      "metadata": {
        "id": "l-l0ZyNr8fWO"
      }
    },
    {
      "cell_type": "code",
      "source": [
        "from langchain import HuggingFaceHub, PromptTemplate, LLMChain\n",
        "from google.colab import userdata\n"
      ],
      "metadata": {
        "id": "gDRCknn_yeF7"
      },
      "execution_count": 18,
      "outputs": []
    },
    {
      "cell_type": "code",
      "source": [
        "repo_id = \"tiiuae/falcon-7b-instruct\"\n",
        "token = userdata.get('HUGGINGFACE_ACCESS_TOKEN')\n",
        "huggingfacehub_api_token = token\n",
        "llm = HuggingFaceHub(huggingfacehub_api_token=huggingfacehub_api_token,\n",
        "                     repo_id = repo_id,\n",
        "                     model_kwargs={\"randomness\":0.7, \"max_new_tokens\":500})"
      ],
      "metadata": {
        "id": "mGnkN5aJyrq5"
      },
      "execution_count": null,
      "outputs": []
    },
    {
      "cell_type": "markdown",
      "source": [
        "**Chat/Prompt Template and Model Chaining**"
      ],
      "metadata": {
        "id": "TIXiDuQ5G68H"
      }
    },
    {
      "cell_type": "code",
      "source": [
        "chat_template = \"\"\"Question: {question}\n",
        "                   Response: Give a detailed answer.\"\"\"\n",
        "\n",
        "prompt = PromptTemplate(template = chat_template, input_variables = [\"question\"])\n",
        "chain = LLMChain(prompt = prompt, llm = llm)"
      ],
      "metadata": {
        "id": "vDs_mms_FoTL"
      },
      "execution_count": 22,
      "outputs": []
    },
    {
      "cell_type": "code",
      "source": [
        "response = chain.invoke(\"How to make indian chai/tea\")"
      ],
      "metadata": {
        "id": "OuQddiCiGL82"
      },
      "execution_count": 23,
      "outputs": []
    },
    {
      "cell_type": "code",
      "source": [
        "print(response['text'])"
      ],
      "metadata": {
        "colab": {
          "base_uri": "https://localhost:8080/"
        },
        "id": "R2grgiQiHf40",
        "outputId": "06e6d15a-c766-4a88-9cc9-a7d14946e749"
      },
      "execution_count": 24,
      "outputs": [
        {
          "output_type": "stream",
          "name": "stdout",
          "text": [
            "\n",
            "To make Indian chai/tea, you will need the following ingredients:\n",
            "\n",
            "1. Black tea: This is the base of the chai and is usually made from Assam tea leaves.\n",
            "\n",
            "2. Milk: This is added to the chai to give it a creamy texture.\n",
            "\n",
            "3. Cardamom: This is a key ingredient in Indian chai and is used to give the tea a warm and spicy flavor.\n",
            "\n",
            "4. Cinnamon: This is another key ingredient in Indian chai and is used to give the tea a sweet and spicy flavor.\n",
            "\n",
            "5. Ginger: This is used to give the tea a spicy and warm flavor.\n",
            "\n",
            "6. Cloves: These are used to give the tea a sweet and spicy flavor.\n",
            "\n",
            "7. Sugar: This is used to sweeten the tea.\n",
            "\n",
            "To make the chai, you will need to boil the tea leaves in water for a few minutes. Once the tea has been brewed, you can add milk, sugar, and spices to the tea to give it a unique flavor. You can also add milk and sugar to the tea before serving to make it creamier and sweeter. The spices can be added to the tea while it is brewing or added to the tea after it has been brewed. The amount of spices and milk can be adjusted to suit your taste.\n"
          ]
        }
      ]
    }
  ]
}